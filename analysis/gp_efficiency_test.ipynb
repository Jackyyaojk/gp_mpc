{
 "cells": [
  {
   "cell_type": "code",
   "execution_count": 1,
   "metadata": {
    "scrolled": true
   },
   "outputs": [
    {
     "name": "stdout",
     "output_type": "stream",
     "text": [
      "Using matplotlib backend: GTK3Agg\n"
     ]
    },
    {
     "name": "stderr",
     "output_type": "stream",
     "text": [
      "Failed to load Python extension for LZ4 support. LZ4 compression will not be available.\n"
     ]
    },
    {
     "name": "stdout",
     "output_type": "stream",
     "text": [
      "Loading mode polish with {'data/rail/1.bag', 'data/rail/2.bag', 'data/rail/3.bag'}\n",
      "Loading ros bag data/rail/1.bag  with 3158 msgs\n",
      "Loading ros bag data/rail/2.bag  with 6997 msgs\n",
      "Loading ros bag data/rail/3.bag  with 3767 msgs\n",
      "Total of 7206 messages after trim\n",
      "Built model polish with data dim (50, 6)\n",
      "Mode: polish  | Rotation: False\n",
      "Max covariance: [22.75]\n",
      "Min covariance: [22.75]\n",
      "Max force:      [8.39795959e-08 5.22293989e-08 9.92204751e-08]\n",
      "Mode: polish  | Rotation: True\n",
      "Max covariance: [15.8]\n",
      "Min covariance: [15.47712375]\n",
      "Max force:      [0.07053365 0.05828072 0.07484313]\n"
     ]
    },
    {
     "name": "stderr",
     "output_type": "stream",
     "text": [
      "/home/hanikevi/git/gp-mpc/src/gp_model.py:248: UserWarning: Requested projection is different from current axis projection, creating new axis with requested projection.\n",
      "  ax = fig.gca(projection='3d')\n",
      "/home/hanikevi/git/gp-mpc/src/gp_model.py:248: MatplotlibDeprecationWarning: Adding an axes using the same arguments as a previous axes currently reuses the earlier instance.  In a future version, a new instance will always be created and returned.  Meanwhile, this warning can be suppressed, and the future behavior ensured, by passing a unique label to each axes instance.\n",
      "  ax = fig.gca(projection='3d')\n"
     ]
    },
    {
     "name": "stdout",
     "output_type": "stream",
     "text": [
      "GP Likelihood: [-228.60216217324887, -167.52435608027372, -324.5788413732649, -68.74026292364121, -69.54928456265014, -68.5330357394692]\n"
     ]
    }
   ],
   "source": [
    "%load_ext autoreload\n",
    "%autoreload 2\n",
    "%matplotlib\n",
    "import control\n",
    "from gp_model import gp_model\n",
    "from helper_fns import *\n",
    "\n",
    "gp_params = yaml_load('../config/gp_params.yaml')\n",
    "mpc_params = yaml_load('../config/mpc_params.yaml')\n",
    "gp_models = gp_model(gp_params, rotation = True)\n",
    "models, modes = gp_models.load_models(try_reload = False)\n",
    "\n",
    "test_pt_eu = np.array([1.0, 0.05, 0.2, -1.67, 3.09, -1.8])\n",
    "test_pt = eulerpose_to_rotpose(test_pt_eu)"
   ]
  },
  {
   "cell_type": "code",
   "execution_count": 45,
   "metadata": {},
   "outputs": [
    {
     "name": "stdout",
     "output_type": "stream",
     "text": [
      "The autoreload extension is already loaded. To reload it, use:\n",
      "  %reload_ext autoreload\n",
      "0.393404\n",
      "1.16646\n",
      "[-1.49709, -0.995971, -1.48638]\n",
      "0.392795\n",
      "1.16713\n",
      "[-1.49193, -1.00017, -1.49082]\n",
      "\n",
      "[[0.00567423, 0.00224456, 0.999981], \n",
      " [0.924002, -0.382363, -0.00438484], \n",
      " [0.382346, 0.92401, -0.0042436]]\n",
      "\n",
      "[[-0.000463246, 0.924619, 0.380892], \n",
      " [0.00180508, -0.380891, 0.924618], \n",
      " [0.999998, 0.00111587, -0.00149257]]\n",
      "\n",
      "[[-0.000463247, 0.924619, 0.380892], \n",
      " [0.00180508, -0.380891, 0.924618], \n",
      " [0.999998, 0.00111587, -0.00149256]]\n"
     ]
    }
   ],
   "source": [
    "%load_ext autoreload\n",
    "%autoreload 2\n",
    "from helper_fns import *\n",
    "eu1 = np.array([1.178458767867565, 1.5750399390341376, -3.13720775527019])\n",
    "eu2 = np.array([1.1800346934408186, 1.5722888936312294, 3.1404767855045317])\n",
    "print((quat_to_rotvec(euler_to_quat(eu1))))\n",
    "print((quat_to_rotvec(euler_to_quat(eu2))))\n",
    "print(rotvec_to_rotation(np.array([1.49708619, 0.99597059, 1.48638353])))\n",
    "print(euler_to_rotation(np.array([1.1800346934408186, 1.5722888936312294, 3.1404767855045317])))\n",
    "print(rotvec_to_rotation(np.array([2.5239453,  1.69202554, 2.52206465])))\n",
    "#%timeit models['polish'].predict(test_pt, [])"
   ]
  },
  {
   "cell_type": "code",
   "execution_count": 4,
   "metadata": {},
   "outputs": [
    {
     "name": "stdout",
     "output_type": "stream",
     "text": [
      "369 µs ± 10.4 µs per loop (mean ± std. dev. of 7 runs, 1000 loops each)\n"
     ]
    }
   ],
   "source": [
    "%timeit models['polish'].predict_fast(test_pt)"
   ]
  },
  {
   "cell_type": "code",
   "execution_count": 4,
   "metadata": {},
   "outputs": [
    {
     "name": "stdout",
     "output_type": "stream",
     "text": [
      "map3_F_int:(x[24x3],u[6x3],init_pose[6x3],hum_kin_opti[],imp_params[12x3])->(xf[24x3],st_cost[1x3],hum_force_cart[6x3],f_cov[1x3],hum_force_joint[]) Map\n",
      "vec(map3_F_int(xk, uk, zeros(6x3), 0x0, zeros(12x3)){0})\n"
     ]
    }
   ],
   "source": [
    "from gp_dynamics import GPDynamics\n",
    "gpmodel = GPDynamics(N_p = 6, mpc_params = mpc_params, gp = models['polish'])\n",
    "dyn = gpmodel.MDS_system()\n",
    "xk = ca.MX.sym('xk',24)\n",
    "uk = ca.MX.sym('uk',6)\n",
    "res = dyn(x=xk, u=uk, init_pose=test_pt, hum_kin_opti = [], imp_params = [] )\n",
    "dyn_map = dyn.map(3)\n",
    "res_map = dyn_map(x = ca.MX.sym('xk',24,3), u = ca.MX.sym('uk',6,3), hum_kin_opti = [], imp_params = [])\n",
    "print(dyn_map)\n",
    "w = []\n",
    "w += [ca.horzsplit(res_map['xf'])]\n",
    "print(ca.reshape(res_map['xf'], 24*3,1))"
   ]
  },
  {
   "cell_type": "code",
   "execution_count": 5,
   "metadata": {},
   "outputs": [
    {
     "data": {
      "text/plain": [
       "SX(@1=2, @2=cos((x_3/@1)), @3=cos((x_4/@1)), @4=cos((x_5/@1)), @5=(@3*@4), @6=sin((x_3/@1)), @7=sin((x_4/@1)), @8=sin((x_5/@1)), @9=(@7*@8), @10=((@2*@5)+(@6*@9)), @11=((@6*@5)-(@2*@9)), @12=(@7*@4), @13=(@3*@8), @14=((@2*@12)+(@6*@13)), @15=((@2*@13)-(@6*@12)), @16=((((@10*q0_0)-(@11*q0_1))-(@14*q0_2))-(@15*q0_3)), @17=sign(@16), @18=acos((@16*@17)), @19=(@1*@18), [(((((((@10*q0_1)+(@11*q0_0))-(@14*q0_3))+(@15*q0_2))*@17)/sin(@18))*@19), (((((((@10*q0_2)+(@11*q0_3))+(@14*q0_0))-(@15*q0_1))*@17)/sin(@18))*@19), (((((((@10*q0_3)-(@11*q0_2))+(@14*q0_1))+(@15*q0_0))*@17)/sin(@18))*@19)])"
      ]
     },
     "execution_count": 5,
     "metadata": {},
     "output_type": "execute_result"
    }
   ],
   "source": [
    "import casadi as ca\n",
    "q0 = ca.SX.sym('q0', 6)\n",
    "from helper_fns import *\n",
    "x = ca.SX.sym('x',6)\n",
    "quat_to_rotvec(quat_quat_mult(xyz_to_quat(x[3:]), q0))\n",
    "#xyz_to_quat(x[:3])"
   ]
  },
  {
   "cell_type": "code",
   "execution_count": 7,
   "metadata": {},
   "outputs": [
    {
     "name": "stdout",
     "output_type": "stream",
     "text": [
      "25.9 µs ± 1.17 µs per loop (mean ± std. dev. of 7 runs, 10000 loops each)\n",
      "25.7 µs ± 549 ns per loop (mean ± std. dev. of 7 runs, 10000 loops each)\n",
      "24.9 µs ± 220 ns per loop (mean ± std. dev. of 7 runs, 10000 loops each)\n",
      "25.8 µs ± 175 ns per loop (mean ± std. dev. of 7 runs, 10000 loops each)\n"
     ]
    }
   ],
   "source": [
    "# Test if hand optimizing XYZ->QUAT brings something\n",
    "import casadi as ca\n",
    "a = ca.SX.sym('a')\n",
    "b = ca.SX.sym('b')\n",
    "c = ca.SX.sym('c')\n",
    "abc = ca.vertcat(a,b,c)\n",
    "\n",
    "res1 = ca.sin(a)*ca.sin(b)*ca.sin(c)+ca.cos(a)*ca.cos(b)*ca.cos(c)\n",
    "res2 = 0.25*(ca.sin(a-b-c)+ca.sin(a+b-c)+ca.sin(a-b+c)-ca.sin(a+b+c)\n",
    "             +ca.cos(a-b-c)+ca.cos(a+b-c)+ca.cos(a-b+c)+ca.cos(a+b+c))\n",
    "\n",
    "f1 = ca.Function('f1', [a, b, c], [res1])\n",
    "jf1 = ca.Function('jf1', [a, b, c], [ca.gradient(res1, abc)])\n",
    "f2 = ca.Function('f2', [a, b, c], [res2])\n",
    "jf2 = ca.Function('jf2', [a, b, c], [ca.gradient(res2, abc)])\n",
    "\n",
    "%timeit f1(0.5, -1.1, 0.3)\n",
    "%timeit f2(0.5, -1.1, 0.3)\n",
    "\n",
    "%timeit jf1(0.5, -0.1, 0.3)\n",
    "%timeit jf2(0.5, -0.1, 0.3)"
   ]
  }
 ],
 "metadata": {
  "kernelspec": {
   "display_name": "Python 3",
   "language": "python",
   "name": "python3"
  },
  "language_info": {
   "codemirror_mode": {
    "name": "ipython",
    "version": 3
   },
   "file_extension": ".py",
   "mimetype": "text/x-python",
   "name": "python",
   "nbconvert_exporter": "python",
   "pygments_lexer": "ipython3",
   "version": "3.6.5"
  }
 },
 "nbformat": 4,
 "nbformat_minor": 4
}
