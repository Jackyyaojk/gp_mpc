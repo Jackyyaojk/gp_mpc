{
 "cells": [
  {
   "cell_type": "code",
   "execution_count": 2,
   "metadata": {
    "scrolled": true
   },
   "outputs": [
    {
     "name": "stdout",
     "output_type": "stream",
     "text": [
      "The autoreload extension is already loaded. To reload it, use:\n",
      "  %reload_ext autoreload\n"
     ]
    },
    {
     "ename": "ValueError",
     "evalue": "attempted relative import beyond top-level package",
     "output_type": "error",
     "traceback": [
      "\u001b[0;31m---------------------------------------------------------------------------\u001b[0m",
      "\u001b[0;31mValueError\u001b[0m                                Traceback (most recent call last)",
      "\u001b[0;32m<ipython-input-2-21ecf8deb818>\u001b[0m in \u001b[0;36m<module>\u001b[0;34m\u001b[0m\n\u001b[1;32m      3\u001b[0m \u001b[0;31m# %matplotlib # Uncomment to unlock the _true_ potential of matplotlib (plot outside browser)\u001b[0m\u001b[0;34m\u001b[0m\u001b[0;34m\u001b[0m\u001b[0m\n\u001b[1;32m      4\u001b[0m \u001b[0;34m\u001b[0m\u001b[0m\n\u001b[0;32m----> 5\u001b[0;31m \u001b[0;32mfrom\u001b[0m \u001b[0;34m.\u001b[0m\u001b[0;34m.\u001b[0m\u001b[0mgp_mpc\u001b[0m\u001b[0;34m.\u001b[0m\u001b[0mgp_wrapper\u001b[0m \u001b[0;32mimport\u001b[0m \u001b[0mgp_model\u001b[0m\u001b[0;34m\u001b[0m\u001b[0m\n\u001b[0m\u001b[1;32m      6\u001b[0m \u001b[0;32mfrom\u001b[0m \u001b[0;34m.\u001b[0m\u001b[0;34m.\u001b[0m\u001b[0mgp_mpc\u001b[0m\u001b[0;34m.\u001b[0m\u001b[0mhelper_fns\u001b[0m \u001b[0;32mimport\u001b[0m \u001b[0;34m*\u001b[0m\u001b[0;34m\u001b[0m\u001b[0m\n\u001b[1;32m      7\u001b[0m \u001b[0;34m\u001b[0m\u001b[0m\n",
      "\u001b[0;31mValueError\u001b[0m: attempted relative import beyond top-level package"
     ]
    }
   ],
   "source": [
    "%load_ext autoreload\n",
    "%autoreload 2\n",
    "# %matplotlib # Uncomment to unlock the _true_ potential of matplotlib (plot outside browser)\n",
    "\n",
    "from gp_mpc.gp_wrapper import gp_model\n",
    "from gp_mpc.helper_fns import *\n",
    "\n",
    "path = 'data/rail/'  # also data/contact_var/\n",
    "gp_params = yaml_load(path, 'gp_params.yaml')\n",
    "gp_params['path'] = path\n",
    "gp_params['mean_func'] = 'const' # zero, const, linear, hinge. zero and const are tested :) \n",
    "\n",
    "# build GP model\n",
    "gp_models = gp_model(gp_params, rotation = False)\n",
    "models, modes = gp_models.load_models(rebuild = True) # rebuild = False loads model specified in gp_params['model_path']\n",
    "\n",
    "# pick our favorite model\n",
    "model = models[modes[0]]\n",
    "test_pt = model.get_mean_state() # get test point from middle of GP data\n",
    "print(\"Stiffness at {} is {}\".format(test_pt, model.grad(test_pt)[2,2]))  # print derivative of Fz w.r.t. z (i.e. vertical stiffness)\n",
    "\n",
    "### @Christian: we expect that the data/rail/ experiments should have a much lower vertical \n",
    "###             stiffness, such as data/contact_var/, which was contact with the metal table. \n",
    "###             You should be able to just change the path above to load the two datasets\n",
    "###             Note that gp_params are loaded from path, so we have a param file per dataset\n",
    "###             You should be able to change the mean function above"
   ]
  },
  {
   "cell_type": "code",
   "execution_count": 45,
   "metadata": {},
   "outputs": [
    {
     "name": "stdout",
     "output_type": "stream",
     "text": [
      "The autoreload extension is already loaded. To reload it, use:\n",
      "  %reload_ext autoreload\n",
      "0.393404\n",
      "1.16646\n",
      "[-1.49709, -0.995971, -1.48638]\n",
      "0.392795\n",
      "1.16713\n",
      "[-1.49193, -1.00017, -1.49082]\n",
      "\n",
      "[[0.00567423, 0.00224456, 0.999981], \n",
      " [0.924002, -0.382363, -0.00438484], \n",
      " [0.382346, 0.92401, -0.0042436]]\n",
      "\n",
      "[[-0.000463246, 0.924619, 0.380892], \n",
      " [0.00180508, -0.380891, 0.924618], \n",
      " [0.999998, 0.00111587, -0.00149257]]\n",
      "\n",
      "[[-0.000463247, 0.924619, 0.380892], \n",
      " [0.00180508, -0.380891, 0.924618], \n",
      " [0.999998, 0.00111587, -0.00149256]]\n"
     ]
    }
   ],
   "source": [
    "%load_ext autoreload\n",
    "%autoreload 2\n",
    "from gp_mpc.helper_fns import *\n",
    "\n",
    "\n",
    "test_pt_eu = np.array([1.0, 0.05, 0.2, -1.67, 3.09, -1.8])\n",
    "test_pt = eulerpose_to_rotpose(test_pt_eu)\n",
    "\n",
    "eu1 = np.array([1.178458767867565, 1.5750399390341376, -3.13720775527019])\n",
    "eu2 = np.array([1.1800346934408186, 1.5722888936312294, 3.1404767855045317])\n",
    "print((quat_to_rotvec(euler_to_quat(eu1))))\n",
    "print((quat_to_rotvec(euler_to_quat(eu2))))\n",
    "print(rotvec_to_rotation(np.array([1.49708619, 0.99597059, 1.48638353])))\n",
    "print(euler_to_rotation(np.array([1.1800346934408186, 1.5722888936312294, 3.1404767855045317])))\n",
    "print(rotvec_to_rotation(np.array([2.5239453,  1.69202554, 2.52206465])))\n",
    "#%timeit models['polish'].predict(test_pt, [])"
   ]
  },
  {
   "cell_type": "code",
   "execution_count": 4,
   "metadata": {},
   "outputs": [
    {
     "name": "stdout",
     "output_type": "stream",
     "text": [
      "369 µs ± 10.4 µs per loop (mean ± std. dev. of 7 runs, 1000 loops each)\n"
     ]
    }
   ],
   "source": [
    "%timeit models['polish'].predict_fast(test_pt)"
   ]
  },
  {
   "cell_type": "code",
   "execution_count": 4,
   "metadata": {},
   "outputs": [
    {
     "name": "stdout",
     "output_type": "stream",
     "text": [
      "map3_F_int:(x[24x3],u[6x3],init_pose[6x3],hum_kin_opti[],imp_params[12x3])->(xf[24x3],st_cost[1x3],hum_force_cart[6x3],f_cov[1x3],hum_force_joint[]) Map\n",
      "vec(map3_F_int(xk, uk, zeros(6x3), 0x0, zeros(12x3)){0})\n"
     ]
    }
   ],
   "source": [
    "from gp_dynamics import GPDynamics\n",
    "gpmodel = GPDynamics(N_p = 6, mpc_params = mpc_params, gp = models['polish'])\n",
    "dyn = gpmodel.MDS_system()\n",
    "xk = ca.MX.sym('xk',24)\n",
    "uk = ca.MX.sym('uk',6)\n",
    "res = dyn(x=xk, u=uk, init_pose=test_pt, hum_kin_opti = [], imp_params = [] )\n",
    "dyn_map = dyn.map(3)\n",
    "res_map = dyn_map(x = ca.MX.sym('xk',24,3), u = ca.MX.sym('uk',6,3), hum_kin_opti = [], imp_params = [])\n",
    "print(dyn_map)\n",
    "w = []\n",
    "w += [ca.horzsplit(res_map['xf'])]\n",
    "print(ca.reshape(res_map['xf'], 24*3,1))"
   ]
  },
  {
   "cell_type": "code",
   "execution_count": 5,
   "metadata": {},
   "outputs": [
    {
     "data": {
      "text/plain": [
       "SX(@1=2, @2=cos((x_3/@1)), @3=cos((x_4/@1)), @4=cos((x_5/@1)), @5=(@3*@4), @6=sin((x_3/@1)), @7=sin((x_4/@1)), @8=sin((x_5/@1)), @9=(@7*@8), @10=((@2*@5)+(@6*@9)), @11=((@6*@5)-(@2*@9)), @12=(@7*@4), @13=(@3*@8), @14=((@2*@12)+(@6*@13)), @15=((@2*@13)-(@6*@12)), @16=((((@10*q0_0)-(@11*q0_1))-(@14*q0_2))-(@15*q0_3)), @17=sign(@16), @18=acos((@16*@17)), @19=(@1*@18), [(((((((@10*q0_1)+(@11*q0_0))-(@14*q0_3))+(@15*q0_2))*@17)/sin(@18))*@19), (((((((@10*q0_2)+(@11*q0_3))+(@14*q0_0))-(@15*q0_1))*@17)/sin(@18))*@19), (((((((@10*q0_3)-(@11*q0_2))+(@14*q0_1))+(@15*q0_0))*@17)/sin(@18))*@19)])"
      ]
     },
     "execution_count": 5,
     "metadata": {},
     "output_type": "execute_result"
    }
   ],
   "source": [
    "import casadi as ca\n",
    "q0 = ca.SX.sym('q0', 6)\n",
    "from helper_fns import *\n",
    "x = ca.SX.sym('x',6)\n",
    "quat_to_rotvec(quat_quat_mult(xyz_to_quat(x[3:]), q0))\n",
    "#xyz_to_quat(x[:3])"
   ]
  },
  {
   "cell_type": "code",
   "execution_count": 7,
   "metadata": {},
   "outputs": [
    {
     "name": "stdout",
     "output_type": "stream",
     "text": [
      "25.9 µs ± 1.17 µs per loop (mean ± std. dev. of 7 runs, 10000 loops each)\n",
      "25.7 µs ± 549 ns per loop (mean ± std. dev. of 7 runs, 10000 loops each)\n",
      "24.9 µs ± 220 ns per loop (mean ± std. dev. of 7 runs, 10000 loops each)\n",
      "25.8 µs ± 175 ns per loop (mean ± std. dev. of 7 runs, 10000 loops each)\n"
     ]
    }
   ],
   "source": [
    "# Test if hand optimizing XYZ->QUAT brings something. Not much!\n",
    "import casadi as ca\n",
    "a = ca.SX.sym('a')\n",
    "b = ca.SX.sym('b')\n",
    "c = ca.SX.sym('c')\n",
    "abc = ca.vertcat(a,b,c)\n",
    "\n",
    "res1 = ca.sin(a)*ca.sin(b)*ca.sin(c)+ca.cos(a)*ca.cos(b)*ca.cos(c)\n",
    "res2 = 0.25*(ca.sin(a-b-c)+ca.sin(a+b-c)+ca.sin(a-b+c)-ca.sin(a+b+c)\n",
    "             +ca.cos(a-b-c)+ca.cos(a+b-c)+ca.cos(a-b+c)+ca.cos(a+b+c))\n",
    "\n",
    "f1 = ca.Function('f1', [a, b, c], [res1])\n",
    "jf1 = ca.Function('jf1', [a, b, c], [ca.gradient(res1, abc)])\n",
    "f2 = ca.Function('f2', [a, b, c], [res2])\n",
    "jf2 = ca.Function('jf2', [a, b, c], [ca.gradient(res2, abc)])\n",
    "\n",
    "%timeit f1(0.5, -1.1, 0.3)\n",
    "%timeit f2(0.5, -1.1, 0.3)\n",
    "\n",
    "%timeit jf1(0.5, -0.1, 0.3)\n",
    "%timeit jf2(0.5, -0.1, 0.3)"
   ]
  },
  {
   "cell_type": "code",
   "execution_count": 10,
   "metadata": {},
   "outputs": [
    {
     "name": "stdout",
     "output_type": "stream",
     "text": [
      "[0.251992, 1.42378, 0.268161]\n",
      "[0.0798732, 0.296068, -0.248851]\n",
      "[0.00979675, 0.204504, -0.300968]\n",
      "[0.00979675, 0.204504, -0.300968]\n",
      "133 µs ± 18.7 µs per loop (mean ± std. dev. of 7 runs, 10000 loops each)\n",
      "92.1 µs ± 3.02 µs per loop (mean ± std. dev. of 7 runs, 10000 loops each)\n",
      "92.3 µs ± 3.25 µs per loop (mean ± std. dev. of 7 runs, 10000 loops each)\n",
      "78.6 µs ± 8.93 µs per loop (mean ± std. dev. of 7 runs, 10000 loops each)\n",
      "173 µs ± 10.5 µs per loop (mean ± std. dev. of 7 runs, 10000 loops each)\n",
      "169 µs ± 6.22 µs per loop (mean ± std. dev. of 7 runs, 10000 loops each)\n",
      "176 µs ± 5.32 µs per loop (mean ± std. dev. of 7 runs, 10000 loops each)\n",
      "167 µs ± 1.91 µs per loop (mean ± std. dev. of 7 runs, 10000 loops each)\n"
     ]
    }
   ],
   "source": [
    "# Test if rotvec is faster than converting to quat -> not when they become casadi fns!\n",
    "from src.helper_fns import *\n",
    "r1 = np.array([0.01, 0.1, 0.05])\n",
    "r2 = np.array([0.05, 0.2, -0.3])\n",
    "\n",
    "r1s = ca.SX.sym('r1s',3)\n",
    "r2s = ca.SX.sym('r2s',3)\n",
    "\n",
    "print(rotvec_rotvec_mult(r1,r2))\n",
    "print(quat_to_rotvec(quat_quat_mult(rotvec_to_quat(r1),rotvec_to_quat(r2))))\n",
    "\n",
    "print(rotvec_vec_mult(r1,r2))\n",
    "print(quat_vec_mult(rotvec_to_quat(r1),r2))\n",
    "\n",
    "f1 = ca.Function('f1',[r1s, r2s], [(rotvec_rotvec_mult(r1s,r2s))])\n",
    "f2 = ca.Function('f2',[r1s, r2s], [(quat_to_rotvec(quat_quat_mult(rotvec_to_quat(r1),rotvec_to_quat(r2))))])\n",
    "\n",
    "f3 = ca.Function('f3',[r1s, r2s], [(rotvec_vec_mult(r1s,r2s))])\n",
    "f4 = ca.Function('f4',[r1s, r2s], [(quat_vec_mult(rotvec_to_quat(r1),r2))])\n",
    "\n",
    "f1j = f1.forward(1)\n",
    "f2j = f2.forward(1)\n",
    "f3j = f3.forward(1)\n",
    "f4j = f4.forward(1)\n",
    "\n",
    "f1j(r1,r2, f1(r1,r2), 0.1, 0.2)\n",
    "\n",
    "%timeit f1(r1,r2)\n",
    "%timeit f2(r1,r2)\n",
    "%timeit f3(r1,r2)\n",
    "%timeit f4(r1,r2)\n",
    "\n",
    "%timeit f1j(r1,r2, f1(r1,r2), 0.1, 0.2)\n",
    "%timeit f2j(r1,r2, f2(r1,r2), 0.1, 0.2)\n",
    "%timeit f3j(r1,r2, f3(r1,r2), 0.1, 0.2)\n",
    "%timeit f4j(r1,r2, f4(r1,r2), 0.1, 0.2)"
   ]
  }
 ],
 "metadata": {
  "kernelspec": {
   "display_name": "Python 3",
   "language": "python",
   "name": "python3"
  },
  "language_info": {
   "codemirror_mode": {
    "name": "ipython",
    "version": 3
   },
   "file_extension": ".py",
   "mimetype": "text/x-python",
   "name": "python",
   "nbconvert_exporter": "python",
   "pygments_lexer": "ipython3",
   "version": "3.6.5"
  }
 },
 "nbformat": 4,
 "nbformat_minor": 4
}
