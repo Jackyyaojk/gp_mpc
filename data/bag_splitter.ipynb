{
 "cells": [
  {
   "cell_type": "code",
   "execution_count": 2,
   "metadata": {},
   "outputs": [
    {
     "name": "stderr",
     "output_type": "stream",
     "text": [
      "Failed to load Python extension for LZ4 support. LZ4 compression will not be available.\n"
     ]
    }
   ],
   "source": [
    "from sensor_msgs.msg import JointState\n",
    "from std_msgs.msg import Float64MultiArray\n",
    "import rosbag\n",
    "import numpy as np\n",
    "import matplotlib.pyplot as plt\n",
    "\n",
    "def bag_loader(path):\n",
    "    bag = rosbag.Bag(path)\n",
    "    topic_name = 'robot_state'\n",
    "    num_obs = bag.get_message_count(topic_name)\n",
    "    if num_obs is 0:\n",
    "        topic_name = '/robot_state'\n",
    "        num_obs = bag.get_message_count(topic_name)\n",
    "    print('Loading ros bag {}  with {} msgs'.format(path, num_obs))\n",
    "\n",
    "    msgs = []\n",
    "    t = [] \n",
    "    f = []\n",
    "    \n",
    "    for _, msg, t_ros in bag.read_messages(topics=[topic_name]):\n",
    "        #x.append(t_ros.to_sec())\n",
    "        t.append(msg.header.stamp.to_sec())\n",
    "        f.append(msg.effort[2])\n",
    "        msgs.append(msg)\n",
    "    t, f, msgs = zip(*sorted(zip(t, f, msgs)))\n",
    "    t = [ts-t[0] for ts in t]\n",
    "    return t, f, msgs"
   ]
  },
  {
   "cell_type": "code",
   "execution_count": 65,
   "metadata": {},
   "outputs": [
    {
     "name": "stdout",
     "output_type": "stream",
     "text": [
      "Loading ros bag contact_var/13.bag  with 120 msgs\n"
     ]
    },
    {
     "data": {
      "image/png": "[encoded data removed]",
      "text/plain": [
       "<Figure size 432x288 with 1 Axes>"
      ]
     },
     "metadata": {
      "needs_background": "light"
     },
     "output_type": "display_data"
    }
   ],
   "source": [
    "t, f, msgs = bag_loader('contact_var/13.bag')\n",
    "rng_l = 105\n",
    "rng_h = rng_l+10\n",
    "plt.plot(f[rng_l:rng_h], '.-')\n",
    "plt.grid(True)\n",
    "plt.xlabel('Index')\n",
    "plt.ylabel('Force (N)')\n",
    "plt.show()"
   ]
  },
  {
   "cell_type": "code",
   "execution_count": 66,
   "metadata": {},
   "outputs": [],
   "source": [
    "with rosbag.Bag('13_contact.bag', 'w') as outbag:\n",
    "    for msg in [msgs[r] for r in range(rng_l, rng_h)]:\n",
    "        outbag.write('robot_state', msg)"
   ]
  }
 ],
 "metadata": {
  "kernelspec": {
   "display_name": "Python 3",
   "language": "python",
   "name": "python3"
  },
  "language_info": {
   "codemirror_mode": {
    "name": "ipython",
    "version": 3
   },
   "file_extension": ".py",
   "mimetype": "text/x-python",
   "name": "python",
   "nbconvert_exporter": "python",
   "pygments_lexer": "ipython3",
   "version": "3.6.5"
  }
 },
 "nbformat": 4,
 "nbformat_minor": 4
}
